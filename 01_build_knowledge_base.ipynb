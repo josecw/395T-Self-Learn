{
 "cells": [
  {
   "cell_type": "code",
   "execution_count": 1,
   "metadata": {},
   "outputs": [],
   "source": [
    "import pandas as pd\n",
    "import csv\n",
    "import os\n",
    "import json"
   ]
  },
  {
   "cell_type": "markdown",
   "metadata": {},
   "source": [
    "### Document Loading  \n",
    "\n",
    "(The json data is preprocessed offline)"
   ]
  },
  {
   "cell_type": "code",
   "execution_count": 2,
   "metadata": {},
   "outputs": [],
   "source": [
    "from langchain.text_splitter import CharacterTextSplitter\n",
    "\n",
    "datafile = './data/medical-notes.jsonl' \n",
    "\n",
    "with open(datafile, 'r') as file:\n",
    "    json_list = [line.strip('{}\\n') for line in file]\n",
    "\n",
    "\n",
    "text_splitter = CharacterTextSplitter(\n",
    "    separator = \"\\n\",\n",
    "    chunk_overlap  = 200,\n",
    "    length_function = len,\n",
    "    is_separator_regex = False,\n",
    ")\n",
    "texts = text_splitter.create_documents(json_list[:100])"
   ]
  },
  {
   "cell_type": "code",
   "execution_count": 3,
   "metadata": {},
   "outputs": [
    {
     "name": "stderr",
     "output_type": "stream",
     "text": [
      "/tmp/ipykernel_74003/2578851399.py:4: LangChainDeprecationWarning: The class `OllamaEmbeddings` was deprecated in LangChain 0.3.1 and will be removed in 1.0.0. An updated version of the class exists in the :class:`~langchain-ollama package and should be used instead. To use it run `pip install -U :class:`~langchain-ollama` and import as `from :class:`~langchain_ollama import OllamaEmbeddings``.\n",
      "  oembed = OllamaEmbeddings(base_url=\"http://localhost:11434\", model=\"nomic-embed-text\")\n"
     ]
    }
   ],
   "source": [
    "from langchain.embeddings import OllamaEmbeddings\n",
    "from langchain.vectorstores import Chroma\n",
    "\n",
    "oembed = OllamaEmbeddings(base_url=\"http://localhost:11434\", model=\"nomic-embed-text\")\n",
    "vectorstore = Chroma.from_documents(documents=texts, \n",
    "                                    embedding=oembed, \n",
    "                                    collection_name=\"med_notes\",\n",
    "                                    persist_directory=\"med_db\")"
   ]
  },
  {
   "cell_type": "markdown",
   "metadata": {},
   "source": [
    "### Test the Vectorstore"
   ]
  },
  {
   "cell_type": "code",
   "execution_count": 4,
   "metadata": {},
   "outputs": [
    {
     "name": "stdout",
     "output_type": "stream",
     "text": [
      "\"Question\":\"What can you do to prevent migraine with brainstem aura?\",\"Answer\":\"That means you need to: Get enough sleep. Limit your stress. Exercise daily.\",\"Url\":\"https:\\/\\/www.webmd.com\\/migraines-headaches\\/qa\\/what-can-you-do-to-prevent-basilar-migraines\",\"Title\":\"https:\\/\\/www.webmd.com\\/migraines-headaches\\/basilar-artery-migraines-causes-symptoms-tests-and-treatments\" [{}]\n",
      "\"Question\":\"How can you change your diet to prevent migraine with brainstem aura?\",\"Answer\":\"Diet can also affect migraines. Do these things: Eat a balanced diet. Avoid drugs and alcohol. Don't skip meals. Limit caffeine. Avoid any foods that have been triggers.\",\"Url\":\"https:\\/\\/www.webmd.com\\/migraines-headaches\\/qa\\/how-can-you-change-your-diet-to-prevent-basilar-migraines\",\"Title\":\"https:\\/\\/www.webmd.com\\/migraines-headaches\\/basilar-artery-migraines-causes-symptoms-tests-and-treatments\" [{}]\n",
      "\"Question\":\"Can migraine with brainstem aura be prevented?\",\"Answer\":\"To keep from getting a MBA, it helps to avoid the things that usually cause one. Keep a journal of your attacks so you can figure out the things that trigger them. It also helps to live a healthy lifestyle. That means you need to: Get enough sleep.\",\"Url\":\"https:\\/\\/www.webmd.com\\/migraines-headaches\\/qa\\/can-basilar-migraines-be-prevented\",\"Title\":\"https:\\/\\/www.webmd.com\\/migraines-headaches\\/basilar-artery-migraines-causes-symptoms-tests-and-treatments\" [{}]\n",
      "\"Question\":\"How does diet affect migraine with brainstem aura?\",\"Answer\":\"Diet can also affect migraines. Do these things: Eat a balanced diet.\",\"Url\":\"https:\\/\\/www.webmd.com\\/migraines-headaches\\/qa\\/how-does-diet-affect-basilar-migraines\",\"Title\":\"https:\\/\\/www.webmd.com\\/migraines-headaches\\/basilar-artery-migraines-causes-symptoms-tests-and-treatments\" [{}]\n"
     ]
    }
   ],
   "source": [
    "question = \"how to handle headache?\"\n",
    "results = vectorstore.similarity_search(question)\n",
    "for res in results:\n",
    "    print(f\"{res.page_content} [{res.metadata}]\")"
   ]
  }
 ],
 "metadata": {
  "kernelspec": {
   "display_name": ".venv",
   "language": "python",
   "name": "python3"
  },
  "language_info": {
   "codemirror_mode": {
    "name": "ipython",
    "version": 3
   },
   "file_extension": ".py",
   "mimetype": "text/x-python",
   "name": "python",
   "nbconvert_exporter": "python",
   "pygments_lexer": "ipython3",
   "version": "3.12.2"
  }
 },
 "nbformat": 4,
 "nbformat_minor": 2
}
