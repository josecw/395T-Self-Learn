{
 "cells": [
  {
   "cell_type": "code",
   "execution_count": 6,
   "metadata": {},
   "outputs": [],
   "source": [
    "from langchain_ollama.llms import OllamaLLM\n",
    "from langchain.embeddings import OllamaEmbeddings\n",
    "from langchain_chroma import Chroma\n",
    "\n",
    "ollama = OllamaLLM(base_url=\"http://localhost:11434\", model=\"phi3\")\n",
    "oembed = OllamaEmbeddings(base_url=\"http://localhost:11434\", model=\"nomic-embed-text\")\n",
    "\n",
    "vectorstore = Chroma(\n",
    "    collection_name=\"med_notes\",\n",
    "    embedding_function=oembed,\n",
    "    persist_directory=\"./med_db\",  # Where to save data locally, remove if not necessary\n",
    ")"
   ]
  },
  {
   "cell_type": "markdown",
   "metadata": {},
   "source": [
    "### Define Prompt Template\n"
   ]
  },
  {
   "cell_type": "code",
   "execution_count": 10,
   "metadata": {},
   "outputs": [],
   "source": [
    "from langchain.prompts import ChatPromptTemplate\n",
    "\n",
    "template = \"\"\"\n",
    "    <System>\n",
    "    You are a Medical Advisor conversational AI. \n",
    "    YOU ONLY ANSWER QUESTIONS ABOUT medicals. \n",
    "    If question is not related to medical you do not know the answer to a question, you truthfully say that you do not know.\n",
    "    You have access to information provided by the human in the \"document\" tags below to answer the question, and nothing else.\n",
    "    </System>\n",
    "        \n",
    "    <documents>\n",
    "    {context}\n",
    "    </documents>\n",
    "\n",
    "    <instruction>\n",
    "    Your answer should ONLY be drawn from the provided search results above, never include answers outside of the search results provided.\n",
    "    Once you are done extracting relevant quotes, answer the question. \n",
    "    </instruction>\n",
    "\n",
    "    <question>\n",
    "    {question}\n",
    "    </question>\n",
    "    \n",
    "    \"\"\"\n",
    "\n",
    "prompt = ChatPromptTemplate.from_template(template)"
   ]
  },
  {
   "cell_type": "code",
   "execution_count": 19,
   "metadata": {},
   "outputs": [
    {
     "name": "stdout",
     "output_type": "stream",
     "text": [
      "It seems that there is no specific information provided in the documents about a 'clamping' sensation being caused by migraines with brainstem aura or basilar artery migraines. The symptoms listed for these types of headaches, according to the \"Question\" and corresponding answer from one document include: Nausea Vomiting Sensitivity to light and sound Cold hands or feet Dizziness Double vision or graying of vision Slurred speech or trouble speaking Temporary blindness Loss of balance Confusion Trouble hearing Body tingling Loss of consciousness Aura symptoms may last between 5 minutes and 1 hour. While dizziness, double vision (which could potentially be interpreted as a 'clamping' sensation in the context), cold hands or feet are mentioned, there is no direct mention that these specific symptoms cause head clamping. Therefore, I don’t know this information based on provided documents\n"
     ]
    }
   ],
   "source": [
    "from langchain.chains import RetrievalQA\n",
    "\n",
    "qa_chain = RetrievalQA.from_chain_type(ollama, \n",
    "                                       retriever=vectorstore.as_retriever(),\n",
    "                                       return_source_documents=True,\n",
    "                                       chain_type_kwargs={\"prompt\": prompt}\n",
    "                                       )\n",
    "\n",
    "res = qa_chain.invoke({\"query\": \"What causing the head to have clamping sensation?\"})\n",
    "print(res['result'])"
   ]
  },
  {
   "cell_type": "code",
   "execution_count": 18,
   "metadata": {},
   "outputs": [
    {
     "data": {
      "text/plain": [
       "{'query': 'What cause headache?',\n",
       " 'result': 'Based on your query and available information from WebMD:\\n\\n- Migraine with brainstem aura or MBA (formerly known as basilar migraines) are characterized by symptoms like dizziness, double vision, lack of coordination caused by changes called an \"aura,\" which can happen about 10 minutes to 45 minutes before the headache begins. The pain typically starts on one side of the head and gradually spreads and intensifies.\\n- Common triggers include alcohol, stress, lack of sleep, certain food items (e.g., dairy products), chocolate, eggs, wheat, rye, tomatoes, oranges, as well as egg consumption in some people with migraines who have an associated condition called \\'migralepsy.\\'\\n- If the individual doesn\\'t respond to other treatments and experiences 4 or more days of headache per month, preventive medication might be recommended.',\n",
       " 'source_documents': [Document(metadata={}, page_content='\"Question\":\"What causes a migraine with brainstem aura?\",\"Answer\":\"Triggers may include: Alcohol Stress Lack of sleep Some medications Hunger Female hormone changes Bright lights Caffeine Nitrites in some foods, like sandwich meat, bacon, and processed foods Overdoing physical activity Weather or altitude Symptoms differ for everyone, but some are typical: Nausea Vomiting Sensitivity to light and sound Cold hands or feet Dizziness Double vision or graying of vision Slurred speech or trouble speaking Temporary blindness Loss of balance Confusion Trouble hearing Body tingling Loss of consciousness Aura symptoms may last between 5 minutes and 1 hour.\",\"Url\":\"https:\\\\/\\\\/www.webmd.com\\\\/migraines-headaches\\\\/qa\\\\/what-causes-basilar-migraines\",\"Title\":\"https:\\\\/\\\\/www.webmd.com\\\\/migraines-headaches\\\\/basilar-artery-migraines-causes-symptoms-tests-and-treatments\"'),\n",
       "  Document(metadata={}, page_content='\"Question\":\"What are basilar migraines?\",\"Answer\":\"Migraine with brainstem aura or MBA (formerly known as basilar migraines) are headaches that start in the lower part of the brain, called the brainstem. They cause symptoms such as dizziness, double vision, and lack of coordination. These changes, called an aura, can happen about 10 minutes to 45 minutes before your head hurts. The headache pain of a basilar migraine often starts on one side of the head and then gradually spreads and gets stronger.\",\"Url\":\"https:\\\\/\\\\/www.webmd.com\\\\/migraines-headaches\\\\/qa\\\\/what-are-basilar-migraines\",\"Title\":\"https:\\\\/\\\\/www.webmd.com\\\\/migraines-headaches\\\\/basilar-artery-migraines-causes-symptoms-tests-and-treatments\"'),\n",
       "  Document(metadata={}, page_content='\"Question\":\"What is Migraine with Brainstem Aura?\",\"Answer\":\"Migraine with brainstem aura or MBA (formerly known as basilar migraines) are headaches that start in the lower part of the brain, called the brainstem. They cause symptoms such as dizziness, double vision, and lack of coordination. These changes, called an aura, can happen about 10 minutes to 45 minutes before your head hurts. The headache pain of a basilar migraine often starts on one side of the head and then gradually spreads and gets stronger.\",\"Url\":\"https:\\\\/\\\\/www.webmd.com\\\\/migraines-headaches\\\\/qa\\\\/what-is-basilar-migraine\",\"Title\":\"https:\\\\/\\\\/www.webmd.com\\\\/migraines-headaches\\\\/basilar-artery-migraines-causes-symptoms-tests-and-treatments\"'),\n",
       "  Document(metadata={}, page_content='\"Question\":\"What foods commonly trigger migraine with brainstem aura?\",\"Answer\":\"Some common food triggers include: Dairy Wheat Chocolate Eggs Rye Tomatoes Oranges Along with these changes, If you don\\'t respond to other treatments and you have 4 or more migraine days a month, your doctor may suggest preventive medicines.\",\"Url\":\"https:\\\\/\\\\/www.webmd.com\\\\/migraines-headaches\\\\/qa\\\\/what-foods-commonly-trigger-basilar-migraines\",\"Title\":\"https:\\\\/\\\\/www.webmd.com\\\\/migraines-headaches\\\\/basilar-artery-migraines-causes-symptoms-tests-and-treatments\"')]}"
      ]
     },
     "execution_count": 18,
     "metadata": {},
     "output_type": "execute_result"
    }
   ],
   "source": [
    "res"
   ]
  }
 ],
 "metadata": {
  "kernelspec": {
   "display_name": ".venv",
   "language": "python",
   "name": "python3"
  },
  "language_info": {
   "codemirror_mode": {
    "name": "ipython",
    "version": 3
   },
   "file_extension": ".py",
   "mimetype": "text/x-python",
   "name": "python",
   "nbconvert_exporter": "python",
   "pygments_lexer": "ipython3",
   "version": "3.12.2"
  }
 },
 "nbformat": 4,
 "nbformat_minor": 2
}
